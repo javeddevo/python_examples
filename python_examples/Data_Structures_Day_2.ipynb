{
 "cells": [
  {
   "cell_type": "code",
   "execution_count": 2,
   "metadata": {},
   "outputs": [
    {
     "name": "stdout",
     "output_type": "stream",
     "text": [
      "['__add__', '__class__', '__contains__', '__delattr__', '__delitem__', '__dir__', '__doc__', '__eq__', '__format__', '__ge__', '__getattribute__', '__getitem__', '__gt__', '__hash__', '__iadd__', '__imul__', '__init__', '__init_subclass__', '__iter__', '__le__', '__len__', '__lt__', '__mul__', '__ne__', '__new__', '__reduce__', '__reduce_ex__', '__repr__', '__reversed__', '__rmul__', '__setattr__', '__setitem__', '__sizeof__', '__str__', '__subclasshook__', 'append', 'clear', 'copy', 'count', 'extend', 'index', 'insert', 'pop', 'remove', 'reverse', 'sort']\n"
     ]
    }
   ],
   "source": [
    "#list mutable can change teh data\n",
    "a=[1,2,2]\n",
    "print(dir(a))"
   ]
  },
  {
   "cell_type": "code",
   "execution_count": 8,
   "metadata": {},
   "outputs": [
    {
     "name": "stdout",
     "output_type": "stream",
     "text": [
      "[1, 2, 3, 4, 1]\n",
      "3\n",
      "2\n",
      "None\n",
      "[]\n"
     ]
    }
   ],
   "source": [
    "#index\n",
    "#count and clear\n",
    "a=[1,2,3,4,1]\n",
    "print(a)\n",
    "print(a.index(4))\n",
    "print(a.count(1))\n",
    "print(a.clear())\n",
    "print(a)\n"
   ]
  },
  {
   "cell_type": "code",
   "execution_count": 13,
   "metadata": {},
   "outputs": [
    {
     "name": "stdout",
     "output_type": "stream",
     "text": [
      "91200360 91200360 91200360 77199240\n"
     ]
    }
   ],
   "source": [
    "#count\n",
    "a=[3,2,3]\n",
    "b=a\n",
    "c=b\n",
    "e=a.copy()# itv allocates different memory allocation \n",
    "print(id(b),id(a),id(b),id(e))"
   ]
  },
  {
   "cell_type": "code",
   "execution_count": 26,
   "metadata": {},
   "outputs": [
    {
     "name": "stdout",
     "output_type": "stream",
     "text": [
      "[1, 2, 3, 4]\n",
      "[1, 2, 3, 4, [1, 2, 3]]\n",
      "[1, 2, 3, 4, [1, 2, 3], 1, 2, 3]\n",
      "[1, 2, 3, 4, 5]\n"
     ]
    }
   ],
   "source": [
    "#append,extend\n",
    "my_string=[1,2,3]\n",
    "my_string.append(4)\n",
    "print(my_string)\n",
    "a=[1,2,3,4]\n",
    "b=[1,2,3]\n",
    "a.append(b)\n",
    "print(a)\n",
    "a.extend(b)\n",
    "print(a)\n",
    "c=[1,3,4,5]\n",
    "c.insert(1,2)#index and value\n",
    "print(c)"
   ]
  },
  {
   "cell_type": "code",
   "execution_count": 36,
   "metadata": {},
   "outputs": [
    {
     "name": "stdout",
     "output_type": "stream",
     "text": [
      "[1, 4, 5, 5, 6, 7]\n",
      "[1, 4, 5, 6, 7]\n",
      "[1, 4, 5, 6]\n",
      "[1, 5, 6]\n"
     ]
    }
   ],
   "source": [
    "#remove and pop\n",
    "a=[1,\"w\",4,5,5,6,7]\n",
    "a.remove(\"w\")\n",
    "print(a)\n",
    "a.remove(5)\n",
    "print(a)\n",
    "a.pop()\n",
    "print(a)\n",
    "a.pop(1)# remove as per index value\n",
    "print(a)"
   ]
  },
  {
   "cell_type": "code",
   "execution_count": 38,
   "metadata": {},
   "outputs": [
    {
     "name": "stdout",
     "output_type": "stream",
     "text": [
      "[1, 3, 3, 6, 7, 8, 12, 33, 45, 122, 456]\n",
      "[456, 122, 45, 33, 12, 8, 7, 6, 3, 3, 1]\n"
     ]
    }
   ],
   "source": [
    "#sort reverse\n",
    "a=[1,3,6,3,7,8,12,45,122,456,33]\n",
    "a.sort()\n",
    "print(a)\n",
    "a.reverse()\n",
    "print(a)"
   ]
  },
  {
   "cell_type": "code",
   "execution_count": 21,
   "metadata": {},
   "outputs": [
    {
     "name": "stdout",
     "output_type": "stream",
     "text": [
      "['__add__', '__class__', '__contains__', '__delattr__', '__dir__', '__doc__', '__eq__', '__format__', '__ge__', '__getattribute__', '__getitem__', '__getnewargs__', '__gt__', '__hash__', '__init__', '__init_subclass__', '__iter__', '__le__', '__len__', '__lt__', '__mul__', '__ne__', '__new__', '__reduce__', '__reduce_ex__', '__repr__', '__rmul__', '__setattr__', '__sizeof__', '__str__', '__subclasshook__', 'count', 'index']\n",
      "(1, 2, 3) <class 'tuple'>\n",
      "(2, 3, 4) <class 'tuple'>\n",
      "(2,) <class 'tuple'>\n"
     ]
    }
   ],
   "source": [
    "#tuple\n",
    "print(dir(tuple))\n",
    "a=(1,2,3)\n",
    "print(a,type(a))\n",
    "\n",
    "b=2,3,4\n",
    "c=2,\n",
    "print(b,type(b))\n",
    "print(c,type(c))"
   ]
  },
  {
   "cell_type": "code",
   "execution_count": 22,
   "metadata": {},
   "outputs": [
    {
     "name": "stdout",
     "output_type": "stream",
     "text": [
      "['__class__', '__contains__', '__delattr__', '__delitem__', '__dir__', '__doc__', '__eq__', '__format__', '__ge__', '__getattribute__', '__getitem__', '__gt__', '__hash__', '__init__', '__init_subclass__', '__iter__', '__le__', '__len__', '__lt__', '__ne__', '__new__', '__reduce__', '__reduce_ex__', '__repr__', '__reversed__', '__setattr__', '__setitem__', '__sizeof__', '__str__', '__subclasshook__', 'clear', 'copy', 'fromkeys', 'get', 'items', 'keys', 'pop', 'popitem', 'setdefault', 'update', 'values']\n",
      "{'name': 'javeed', 'no': 22, 'two': 2}\n",
      "javeed\n",
      "{'name': 'javeed', 'no': 22, 'two': 2, 'school': 'mahita'}\n",
      "dict_keys(['name', 'no', 'two', 'school'])\n",
      "dict_values(['javeed', 22, 2, 'mahita'])\n",
      "dict_items([('name', 'javeed'), ('no', 22), ('two', 2), ('school', 'mahita')])\n",
      "javeed\n",
      "{'no': 22, 'two': 2, 'school': 'mahita'}\n",
      "('school', 'mahita')\n",
      "{'no': 22, 'two': 2}\n",
      "javeed\n",
      "{'no': 22, 'two': 2, 'name': 'javeed'}\n"
     ]
    }
   ],
   "source": [
    "#dictionaries\n",
    "print(dir(dict))\n",
    "a={\"name\":\"javeed\",\"no\":22,\"two\":2}\n",
    "print(a)\n",
    "print(a.get(\"name\"))\n",
    "b={\"school\":\"mahita\"}\n",
    "a.update(b)\n",
    "print(a)\n",
    "print(a.keys())\n",
    "print(a.values())\n",
    "print(a.items())\n",
    "print(a.pop(\"name\"))\n",
    "print(a)\n",
    "print(a.popitem())\n",
    "print(a)\n",
    "print(a.setdefault(\"name\",\"javeed\"))\n",
    "print(a)"
   ]
  },
  {
   "cell_type": "code",
   "execution_count": 19,
   "metadata": {},
   "outputs": [
    {
     "name": "stdout",
     "output_type": "stream",
     "text": [
      "{1, 2, 3, 34, 4, 23}\n",
      "{1, 2, 3, 34, 4, 23} <class 'set'>\n",
      "set() <class 'set'>\n"
     ]
    }
   ],
   "source": [
    "#sets\n",
    "a={1,2,23,2,3,34,4}\n",
    "b={1,2,34,5,5,5,5,6}\n",
    "print(a)\n",
    "print(a,type(a))\n",
    "a.union(b)\n",
    "c=set({})\n",
    "print(c,type(c))\n"
   ]
  },
  {
   "cell_type": "code",
   "execution_count": null,
   "metadata": {},
   "outputs": [],
   "source": []
  }
 ],
 "metadata": {
  "kernelspec": {
   "display_name": "Python 3",
   "language": "python",
   "name": "python3"
  },
  "language_info": {
   "codemirror_mode": {
    "name": "ipython",
    "version": 3
   },
   "file_extension": ".py",
   "mimetype": "text/x-python",
   "name": "python",
   "nbconvert_exporter": "python",
   "pygments_lexer": "ipython3",
   "version": "3.8.2"
  }
 },
 "nbformat": 4,
 "nbformat_minor": 4
}
