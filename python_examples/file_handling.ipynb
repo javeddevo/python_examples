{
 "cells": [
  {
   "cell_type": "code",
   "execution_count": 1,
   "metadata": {},
   "outputs": [],
   "source": [
    "f=open(\"covid.txt\",\"w\")\n",
    "f.write(\"helloworld\")\n",
    "f.close()\n"
   ]
  },
  {
   "cell_type": "code",
   "execution_count": 2,
   "metadata": {},
   "outputs": [],
   "source": [
    "f=open(\"covid.txt\",\"w\")\n",
    "f.writelines([\"helloworld\\n\",\"hey this is  javeed\\n\"])\n",
    "f.close()"
   ]
  },
  {
   "cell_type": "code",
   "execution_count": 6,
   "metadata": {},
   "outputs": [
    {
     "name": "stdout",
     "output_type": "stream",
     "text": [
      "helloworld\n",
      "hey this is  javeed\n",
      "\n"
     ]
    }
   ],
   "source": [
    "f=open(\"covid.txt\",\"r\")\n",
    "d=f.read()\n",
    "f.close()\n",
    "print(d)"
   ]
  },
  {
   "cell_type": "code",
   "execution_count": 32,
   "metadata": {},
   "outputs": [
    {
     "name": "stdout",
     "output_type": "stream",
     "text": [
      "helloworld\n",
      "hey this is  javeed\n"
     ]
    }
   ],
   "source": [
    "f=open(\"covid.txt\",\"r\")\n",
    "data=f.readlines()\n",
    "f.close()\n",
    "#print(data)\n",
    "for each in data:\n",
    "    print(each.strip(\"\\n\"))\n"
   ]
  },
  {
   "cell_type": "code",
   "execution_count": 28,
   "metadata": {},
   "outputs": [
    {
     "name": "stdout",
     "output_type": "stream",
     "text": [
      "hello\n",
      "hi\n",
      "kk\n"
     ]
    }
   ],
   "source": [
    "a=[\"hello\\n\",\"hi\\n\",\"kk\"]\n",
    "for each in a:\n",
    "    #if each!=\"\\n\":\n",
    "         print(each.strip())"
   ]
  },
  {
   "cell_type": "code",
   "execution_count": 30,
   "metadata": {},
   "outputs": [
    {
     "name": "stdout",
     "output_type": "stream",
     "text": [
      "hello\n",
      "world\n",
      "heheh\n"
     ]
    }
   ],
   "source": [
    "b=[\"hello\\n\",\"world\\n\",\"heheh\"]\n",
    "for each in b:\n",
    "    print(each.strip())"
   ]
  },
  {
   "cell_type": "code",
   "execution_count": 36,
   "metadata": {},
   "outputs": [],
   "source": [
    "a=[\"hello\",\"sample\",\"world\"]\n",
    "fo=open(\"sam.txt\",\"w\")\n",
    "for each in a:\n",
    "    fo.writelines(each+\"1\"+\"\\n\")\n",
    "fo.close()\n",
    "\n"
   ]
  },
  {
   "cell_type": "code",
   "execution_count": 41,
   "metadata": {},
   "outputs": [
    {
     "name": "stdout",
     "output_type": "stream",
     "text": [
      "hello1\n",
      "sample1\n",
      "world1\n",
      "hey\n",
      "linuxhey\n",
      "linuxhey\n",
      "linuxhey\n",
      "linux\n",
      "hey\n",
      "linux\n",
      "\n"
     ]
    }
   ],
   "source": [
    "fo=open(\"sam.txt\",\"a\")\n",
    "fo.writelines([\"hey\\n\",\"linux\\n\"])\n",
    "fo.close()\n",
    "fo=open(\"sam.txt\",\"r\")\n",
    "data=fo.read()\n",
    "fo.close()\n",
    "print(data)"
   ]
  },
  {
   "cell_type": "code",
   "execution_count": 46,
   "metadata": {},
   "outputs": [
    {
     "name": "stdout",
     "output_type": "stream",
     "text": [
      "hello1\n",
      "sample1\n",
      "world1\n",
      "hey\n",
      "linuxhey\n",
      "linuxhey\n",
      "linuxhey\n",
      "linux\n",
      "hey\n",
      "linux\n",
      "\n"
     ]
    }
   ],
   "source": [
    "#from source to destination file \n",
    "sou_f=\"sam.txt\"\n",
    "des_f=\"deepika.txt\"\n",
    "fo=open(sou_f,\"r\")\n",
    "d=fo.read()\n",
    "fo.close()\n",
    "\n",
    "do=open(des_f,\"w\")\n",
    "do.write(d)\n",
    "do.close()\n",
    "\n",
    "do=open(des_f,\"r\")\n",
    "data=do.read()\n",
    "do.close()\n",
    "print(data)"
   ]
  },
  {
   "cell_type": "code",
   "execution_count": 4,
   "metadata": {},
   "outputs": [
    {
     "name": "stdout",
     "output_type": "stream",
     "text": [
      "['s:no', 'name', 'class']\n",
      "['1', 'javeed', '3']\n",
      "['2', 'ram', '4']\n"
     ]
    }
   ],
   "source": [
    "#to write the csv file\n",
    "import csv\n",
    "fo=open(\"hello.csv\",\"w\",newline=\"\")\n",
    "write=csv.writer(fo)\n",
    "write.writerows([[\"s:no\",\"name\",\"class\"],[1,\"javeed\",\"3\"],[2,\"ram\",\"4\"]])\n",
    "fo.close()\n",
    "#to read the csv file\n",
    "do=open(\"hello.csv\",\"r\")\n",
    "read=csv.reader(do)\n",
    "for each in read:\n",
    "    print(each)\n",
    "do.close()"
   ]
  },
  {
   "cell_type": "code",
   "execution_count": 5,
   "metadata": {},
   "outputs": [
    {
     "name": "stdout",
     "output_type": "stream",
     "text": [
      "['1', 'javeed', '3']\n",
      "['2', 'ram', '4']\n"
     ]
    }
   ],
   "source": [
    "#to read the header\n",
    "do=open(\"hello.csv\",\"r\")\n",
    "read=csv.reader(do)\n",
    "head=next(read)\n",
    "for each in read:\n",
    "    print(each)\n",
    "do.close()"
   ]
  },
  {
   "cell_type": "code",
   "execution_count": 6,
   "metadata": {},
   "outputs": [],
   "source": [
    "#json to write\n",
    "import json\n",
    "dic={\"name\":\"javeed\",\"detals\":[\"vij\",\"san\",8994]}\n",
    "fo=open(\"hello.json\",\"w\")\n",
    "json.dump(dic,fo,indent=3)\n",
    "fo.close()"
   ]
  },
  {
   "cell_type": "code",
   "execution_count": 7,
   "metadata": {},
   "outputs": [
    {
     "name": "stdout",
     "output_type": "stream",
     "text": [
      "{'name': 'javeed', 'detals': ['vij', 'san', 8994]}\n"
     ]
    }
   ],
   "source": [
    "import json\n",
    "do=open(\"hello.json\",\"r\")\n",
    "data=json.load(do)\n",
    "print(data)"
   ]
  },
  {
   "cell_type": "code",
   "execution_count": null,
   "metadata": {},
   "outputs": [],
   "source": []
  }
 ],
 "metadata": {
  "kernelspec": {
   "display_name": "Python 3",
   "language": "python",
   "name": "python3"
  },
  "language_info": {
   "codemirror_mode": {
    "name": "ipython",
    "version": 3
   },
   "file_extension": ".py",
   "mimetype": "text/x-python",
   "name": "python",
   "nbconvert_exporter": "python",
   "pygments_lexer": "ipython3",
   "version": "3.8.2"
  }
 },
 "nbformat": 4,
 "nbformat_minor": 4
}
