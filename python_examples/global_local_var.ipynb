{
 "cells": [
  {
   "cell_type": "code",
   "execution_count": 1,
   "metadata": {},
   "outputs": [
    {
     "name": "stdout",
     "output_type": "stream",
     "text": [
      "helloworld\n",
      "world\n"
     ]
    }
   ],
   "source": [
    "def hello():\n",
    "    print(\"helloworld\")\n",
    "def hi():\n",
    "    hello()\n",
    "    print(\"world\")\n",
    "hi()\n"
   ]
  },
  {
   "cell_type": "code",
   "execution_count": 6,
   "metadata": {},
   "outputs": [
    {
     "name": "stdout",
     "output_type": "stream",
     "text": [
      "100\n"
     ]
    }
   ],
   "source": [
    "a=100# global variable\n",
    "def hello():\n",
    "    print(a)\n",
    "hello()\n"
   ]
  },
  {
   "cell_type": "code",
   "execution_count": 7,
   "metadata": {},
   "outputs": [
    {
     "name": "stdout",
     "output_type": "stream",
     "text": [
      "22\n"
     ]
    }
   ],
   "source": [
    "def hello():\n",
    "    a=22# local variable\n",
    "    print(a)\n",
    "hello()"
   ]
  },
  {
   "cell_type": "code",
   "execution_count": 8,
   "metadata": {},
   "outputs": [
    {
     "name": "stdout",
     "output_type": "stream",
     "text": [
      "23\n",
      "100\n"
     ]
    }
   ],
   "source": [
    "a=100\n",
    "def hello():\n",
    "    a=23\n",
    "    print(a)\n",
    "def hi():\n",
    "    print(a)\n",
    "hello()\n",
    "hi()\n",
    "    "
   ]
  },
  {
   "cell_type": "code",
   "execution_count": 10,
   "metadata": {},
   "outputs": [
    {
     "name": "stdout",
     "output_type": "stream",
     "text": [
      "30\n",
      "30\n"
     ]
    }
   ],
   "source": [
    "# to make local var as global var\n",
    "def hello():\n",
    "    global a\n",
    "    a=30\n",
    "    print(a)\n",
    "def hi():\n",
    "    print(a)\n",
    "hello()\n",
    "hi()"
   ]
  },
  {
   "cell_type": "code",
   "execution_count": 14,
   "metadata": {},
   "outputs": [
    {
     "name": "stdout",
     "output_type": "stream",
     "text": [
      "30\n",
      "30\n"
     ]
    }
   ],
   "source": [
    "def one():\n",
    "    global k\n",
    "    k=30\n",
    "    print(k)\n",
    "def two():\n",
    "    print(k)\n",
    "one()\n",
    "two()"
   ]
  },
  {
   "cell_type": "code",
   "execution_count": 23,
   "metadata": {},
   "outputs": [
    {
     "data": {
      "text/plain": [
       "3"
      ]
     },
     "execution_count": 23,
     "metadata": {},
     "output_type": "execute_result"
    }
   ],
   "source": [
    "def sample(a,b):\n",
    "    result=a+b\n",
    "    return result\n",
    "def hi():\n",
    "    result=sample(1,2)\n",
    "    return result\n",
    "hi() "
   ]
  },
  {
   "cell_type": "code",
   "execution_count": 31,
   "metadata": {},
   "outputs": [
    {
     "data": {
      "text/plain": [
       "6"
      ]
     },
     "execution_count": 31,
     "metadata": {},
     "output_type": "execute_result"
    }
   ],
   "source": [
    "# default argument\n",
    "def df(p=4,q=2):\n",
    "    result=p+q\n",
    "    return result\n",
    "df()\n",
    "\n",
    "    "
   ]
  },
  {
   "cell_type": "code",
   "execution_count": 36,
   "metadata": {},
   "outputs": [
    {
     "name": "stdout",
     "output_type": "stream",
     "text": [
      "2\n",
      "3\n",
      "hello\n"
     ]
    }
   ],
   "source": [
    "def hi(*arg):\n",
    "    for each in arg:\n",
    "        print(each)\n",
    "hi(2,3,\"hello\",)"
   ]
  },
  {
   "cell_type": "code",
   "execution_count": 42,
   "metadata": {},
   "outputs": [
    {
     "name": "stdout",
     "output_type": "stream",
     "text": [
      "{'a': 2, 'b': 3, 'c': 4}\n"
     ]
    }
   ],
   "source": [
    "def hello(**karg):\n",
    "    b=karg\n",
    "    print(b)\n",
    "hello(a=2,b=3,c=4)"
   ]
  },
  {
   "cell_type": "code",
   "execution_count": 48,
   "metadata": {},
   "outputs": [
    {
     "name": "stdout",
     "output_type": "stream",
     "text": [
      "0\n",
      "3\n",
      "6\n"
     ]
    }
   ],
   "source": [
    "# variable lenghth arguments\n",
    "def hi(*n):\n",
    "    t=0\n",
    "    for each in n:\n",
    "        t=t+each\n",
    "    print(t)\n",
    "hi()\n",
    "hi(1,2)\n",
    "hi(1,2,3)"
   ]
  },
  {
   "cell_type": "code",
   "execution_count": null,
   "metadata": {},
   "outputs": [],
   "source": []
  }
 ],
 "metadata": {
  "kernelspec": {
   "display_name": "Python 3",
   "language": "python",
   "name": "python3"
  },
  "language_info": {
   "codemirror_mode": {
    "name": "ipython",
    "version": 3
   },
   "file_extension": ".py",
   "mimetype": "text/x-python",
   "name": "python",
   "nbconvert_exporter": "python",
   "pygments_lexer": "ipython3",
   "version": "3.8.2"
  }
 },
 "nbformat": 4,
 "nbformat_minor": 4
}
