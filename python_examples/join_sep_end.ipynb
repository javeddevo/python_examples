{
 "cells": [
  {
   "cell_type": "code",
   "execution_count": 6,
   "metadata": {},
   "outputs": [
    {
     "name": "stdout",
     "output_type": "stream",
     "text": [
      "else is a keyword\n",
      "True is a keyword\n",
      "id is not keyword\n",
      "if is a keyword\n",
      "for is a keyword\n"
     ]
    }
   ],
   "source": [
    "import keyword\n",
    "key=[\"else\",\"True\",\"id\",\"if\",\"for\"]\n",
    "for each in range(len(key)):\n",
    "    if keyword.iskeyword(key[each]):\n",
    "        print(key[each],\"is a keyword\")\n",
    "    else:\n",
    "        print(key[each],\"is not keyword\")\n",
    "\n"
   ]
  },
  {
   "cell_type": "code",
   "execution_count": 15,
   "metadata": {},
   "outputs": [
    {
     "name": "stdout",
     "output_type": "stream",
     "text": [
      "1 2\n",
      "h,e,l,l,o\n"
     ]
    }
   ],
   "source": [
    "x=1\n",
    "y=2\n",
    "print(x,y)\n",
    "a=\"hello\"\n",
    "print(\",\".join(a))"
   ]
  },
  {
   "cell_type": "code",
   "execution_count": 3,
   "metadata": {},
   "outputs": [
    {
     "name": "stdout",
     "output_type": "stream",
     "text": [
      "h\u0007e\u0007l\u0007l\u0007o\u0007w\u0007o\u0007l\u0007d\n"
     ]
    }
   ],
   "source": [
    "a=\"hellowold\"\n",
    "print(\"\\a\".join(a))"
   ]
  },
  {
   "cell_type": "code",
   "execution_count": 6,
   "metadata": {},
   "outputs": [
    {
     "name": "stdout",
     "output_type": "stream",
     "text": [
      "else is a keyword\n",
      "if is a keyword\n",
      "for is a keyword\n",
      "hello is not a keyword\n"
     ]
    }
   ],
   "source": [
    "import keyword\n",
    "a=[\"else\",\"if\",\"for\",\"hello\"]\n",
    "for each in range(len(a)):\n",
    "    if keyword.iskeyword(a[each]):\n",
    "          print(a[each],\"is a keyword\")\n",
    "    else:\n",
    "        print(a[each],\"is not a keyword\")"
   ]
  },
  {
   "cell_type": "code",
   "execution_count": 9,
   "metadata": {},
   "outputs": [
    {
     "name": "stdout",
     "output_type": "stream",
     "text": [
      "the values are: 3 3 4\n",
      "the values are: \n",
      "3\n",
      "3\n",
      "4\n",
      "the vaalues are :3,3 and 4\n"
     ]
    }
   ],
   "source": [
    "a=3\n",
    "b=3\n",
    "c=4\n",
    "print(\"the values are:\",a,b,c)\n",
    "print(\"the values are: \\n{}\\n{}\\n{}\".format(a,b,c))\n",
    "print(f\"the vaalues are :{a},{b} and {c}\")"
   ]
  },
  {
   "cell_type": "code",
   "execution_count": 19,
   "metadata": {},
   "outputs": [
    {
     "name": "stdout",
     "output_type": "stream",
     "text": [
      "worldfffffffff\n"
     ]
    }
   ],
   "source": [
    "print(\"hello\\r)"
   ]
  },
  {
   "cell_type": "code",
   "execution_count": 12,
   "metadata": {},
   "outputs": [
    {
     "name": "stdout",
     "output_type": "stream",
     "text": [
      "hello\b\bworld\n"
     ]
    }
   ],
   "source": [
    "print(\"hello\\b\\bworld\")"
   ]
  },
  {
   "cell_type": "code",
   "execution_count": 25,
   "metadata": {},
   "outputs": [
    {
     "name": "stdout",
     "output_type": "stream",
     "text": [
      "\n",
      "False\n",
      " \n",
      "True\n"
     ]
    }
   ],
   "source": [
    "a=\"\"\n",
    "print(a)\n",
    "print(bool(a))\n",
    "b=\" \"\n",
    "print(b)\n",
    "print(bool(b))"
   ]
  },
  {
   "cell_type": "code",
   "execution_count": 28,
   "metadata": {},
   "outputs": [
    {
     "name": "stdout",
     "output_type": "stream",
     "text": [
      "__add__\n",
      "__class__\n",
      "__contains__\n",
      "__delattr__\n",
      "__dir__\n",
      "__doc__\n",
      "__eq__\n",
      "__format__\n",
      "__ge__\n",
      "__getattribute__\n",
      "__getitem__\n",
      "__getnewargs__\n",
      "__gt__\n",
      "__hash__\n",
      "__init__\n",
      "__init_subclass__\n",
      "__iter__\n",
      "__le__\n",
      "__len__\n",
      "__lt__\n",
      "__mod__\n",
      "__mul__\n",
      "__ne__\n",
      "__new__\n",
      "__reduce__\n",
      "__reduce_ex__\n",
      "__repr__\n",
      "__rmod__\n",
      "__rmul__\n",
      "__setattr__\n",
      "__sizeof__\n",
      "__str__\n",
      "__subclasshook__\n",
      "capitalize\n",
      "casefold\n",
      "center\n",
      "count\n",
      "encode\n",
      "endswith\n",
      "expandtabs\n",
      "find\n",
      "format\n",
      "format_map\n",
      "index\n",
      "isalnum\n",
      "isalpha\n",
      "isascii\n",
      "isdecimal\n",
      "isdigit\n",
      "isidentifier\n",
      "islower\n",
      "isnumeric\n",
      "isprintable\n",
      "isspace\n",
      "istitle\n",
      "isupper\n",
      "join\n",
      "ljust\n",
      "lower\n",
      "lstrip\n",
      "maketrans\n",
      "partition\n",
      "replace\n",
      "rfind\n",
      "rindex\n",
      "rjust\n",
      "rpartition\n",
      "rsplit\n",
      "rstrip\n",
      "split\n",
      "splitlines\n",
      "startswith\n",
      "strip\n",
      "swapcase\n",
      "title\n",
      "translate\n",
      "upper\n",
      "zfill\n"
     ]
    }
   ],
   "source": [
    "a=dir(str)\n",
    "print(\"\\n\".join(a))"
   ]
  },
  {
   "cell_type": "code",
   "execution_count": 29,
   "metadata": {},
   "outputs": [
    {
     "name": "stdout",
     "output_type": "stream",
     "text": [
      "hi\n",
      "helo\n"
     ]
    }
   ],
   "source": [
    "print(\"hi\")\n",
    "print(\"helo\")"
   ]
  },
  {
   "cell_type": "code",
   "execution_count": 31,
   "metadata": {},
   "outputs": [
    {
     "name": "stdout",
     "output_type": "stream",
     "text": [
      "hi hello\n"
     ]
    }
   ],
   "source": [
    "print(\"hi\",end=\" \")\n",
    "print(\"hello\")"
   ]
  },
  {
   "cell_type": "code",
   "execution_count": 32,
   "metadata": {},
   "outputs": [
    {
     "name": "stdout",
     "output_type": "stream",
     "text": [
      "0 1 2 3 4 "
     ]
    }
   ],
   "source": [
    "for i in range(5):\n",
    "    print(i,end=\" \")"
   ]
  },
  {
   "cell_type": "code",
   "execution_count": 42,
   "metadata": {},
   "outputs": [
    {
     "name": "stdout",
     "output_type": "stream",
     "text": [
      "('hello', 'world')\n",
      "hello\n",
      "world\n"
     ]
    }
   ],
   "source": [
    "a=\"hello\",\"world\"\n",
    "print(a)\n",
    "for i in a:\n",
    "    print(i,sep=\" rp"
   ]
  },
  {
   "cell_type": "code",
   "execution_count": 46,
   "metadata": {},
   "outputs": [
    {
     "name": "stdout",
     "output_type": "stream",
     "text": [
      "hi hello\n"
     ]
    }
   ],
   "source": [
    "print(\"hi\",\"hello\")"
   ]
  },
  {
   "cell_type": "code",
   "execution_count": 47,
   "metadata": {},
   "outputs": [
    {
     "name": "stdout",
     "output_type": "stream",
     "text": [
      "hello-world\n"
     ]
    }
   ],
   "source": [
    "print(\"hello\",\"world\",sep=\"-\")"
   ]
  },
  {
   "cell_type": "code",
   "execution_count": 49,
   "metadata": {},
   "outputs": [
    {
     "name": "stdout",
     "output_type": "stream",
     "text": [
      "0 1 2 3 4 "
     ]
    }
   ],
   "source": [
    "for i in range(5):\n",
    "    print(i,end=\" \",sep=\"-\")"
   ]
  },
  {
   "cell_type": "code",
   "execution_count": null,
   "metadata": {},
   "outputs": [],
   "source": []
  }
 ],
 "metadata": {
  "kernelspec": {
   "display_name": "Python 3",
   "language": "python",
   "name": "python3"
  },
  "language_info": {
   "codemirror_mode": {
    "name": "ipython",
    "version": 3
   },
   "file_extension": ".py",
   "mimetype": "text/x-python",
   "name": "python",
   "nbconvert_exporter": "python",
   "pygments_lexer": "ipython3",
   "version": "3.8.2"
  }
 },
 "nbformat": 4,
 "nbformat_minor": 4
}
