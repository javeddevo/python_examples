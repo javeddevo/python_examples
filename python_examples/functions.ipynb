{
 "cells": [
  {
   "cell_type": "code",
   "execution_count": 15,
   "metadata": {},
   "outputs": [
    {
     "name": "stdout",
     "output_type": "stream",
     "text": [
      "helo\n",
      "helo\n"
     ]
    }
   ],
   "source": [
    "def main():\n",
    "    print(\"helo\")\n",
    "    return None\n",
    "main()\n",
    "main()"
   ]
  },
  {
   "cell_type": "code",
   "execution_count": 16,
   "metadata": {},
   "outputs": [
    {
     "name": "stdout",
     "output_type": "stream",
     "text": [
      "hello world\n",
      "welcome to python\n",
      "good knowledge on devops\n",
      "good knowledge on python\n",
      "jonb in micosoft\n",
      "job in fb\n"
     ]
    }
   ],
   "source": [
    "#resuabilty and redabilty nd modularity\n",
    "def welcome():\n",
    "    print(\"hello world\")\n",
    "    print(\"welcome to python\")\n",
    "    return None\n",
    "def skill():\n",
    "    print(\"good knowledge on devops\")\n",
    "    print(\"good knowledge on python\")\n",
    "    return None\n",
    "def job():\n",
    "    print(\"jonb in micosoft\")\n",
    "    print(\"job in fb\")\n",
    "    return None\n",
    "welcome()\n",
    "skill()\n",
    "job()"
   ]
  },
  {
   "cell_type": "code",
   "execution_count": 18,
   "metadata": {},
   "outputs": [
    {
     "name": "stdout",
     "output_type": "stream",
     "text": [
      "hello\n",
      "thank you\n"
     ]
    }
   ],
   "source": [
    "#scope of varibale\n",
    "def hello():\n",
    "    print(\"hello\")\n",
    "    hi()\n",
    "def hi():\n",
    "    print(\"thank you\")\n",
    "hello()"
   ]
  },
  {
   "cell_type": "code",
   "execution_count": 22,
   "metadata": {},
   "outputs": [
    {
     "name": "stdout",
     "output_type": "stream",
     "text": [
      "the value is 5\n",
      "the value is 5\n"
     ]
    }
   ],
   "source": [
    "#  global varibale\n",
    "def hello():\n",
    "    print(\"the value is\",x)\n",
    "    hi()\n",
    "    return None\n",
    "def hi():\n",
    "    print(\"the value is\",x)\n",
    "    return None\n",
    "x=5 # global variable\n",
    "hello()"
   ]
  },
  {
   "cell_type": "code",
   "execution_count": 25,
   "metadata": {},
   "outputs": [
    {
     "name": "stdout",
     "output_type": "stream",
     "text": [
      "the value of x is 60\n",
      "the vaule if x is 455\n"
     ]
    }
   ],
   "source": [
    "def hello():\n",
    "    x=60 #local variable\n",
    "    print(\"the value of x is\",x) \n",
    "    hi()\n",
    "def hi():\n",
    "    x=455\n",
    "    print(\"the vaule if x is\",x)\n",
    "x=55\n",
    "hello()\n",
    "#note priority is given to local variable"
   ]
  },
  {
   "cell_type": "code",
   "execution_count": 32,
   "metadata": {},
   "outputs": [
    {
     "name": "stdout",
     "output_type": "stream",
     "text": [
      "the value is 50\n",
      "the value is 55\n"
     ]
    }
   ],
   "source": [
    "def hellos():\n",
    "    y=50\n",
    "    print(\"the value is\",y)\n",
    "    his()\n",
    "def his():\n",
    "    print(\"the value is\",y)\n",
    "hello()"
   ]
  },
  {
   "cell_type": "code",
   "execution_count": 44,
   "metadata": {},
   "outputs": [
    {
     "name": "stdout",
     "output_type": "stream",
     "text": [
      "the value is 90\n",
      "the value is 90\n"
     ]
    }
   ],
   "source": [
    "def hey():\n",
    "    global z\n",
    "    z=90\n",
    "    print(\"the value is\",z)\n",
    "    jk()\n",
    "def jk():\n",
    "    print(\"the value is\",z)\n",
    "hey()\n"
   ]
  },
  {
   "cell_type": "code",
   "execution_count": 53,
   "metadata": {},
   "outputs": [
    {
     "name": "stdout",
     "output_type": "stream",
     "text": [
      "the value is 3\n",
      "the vlaue is 3\n"
     ]
    }
   ],
   "source": [
    "\n",
    "def sample1(s):\n",
    "    print(\"the value is\",d)\n",
    "    \n",
    "def sample2():\n",
    "    sample1(3)\n",
    "    print(\"the vlaue is\",d)\n",
    "sample2()\n"
   ]
  },
  {
   "cell_type": "code",
   "execution_count": 56,
   "metadata": {},
   "outputs": [
    {
     "name": "stdout",
     "output_type": "stream",
     "text": [
      "4\n"
     ]
    }
   ],
   "source": [
    "#functions with argumenst and parameters\n",
    "def hello(a,b):\n",
    "    result=a+b\n",
    "    print(result)\n",
    "    return None\n",
    "def main():\n",
    "    hello(1,3)\n",
    "    return None\n",
    "main()\n",
    "    "
   ]
  },
  {
   "cell_type": "code",
   "execution_count": 67,
   "metadata": {},
   "outputs": [
    {
     "name": "stdout",
     "output_type": "stream",
     "text": [
      "7\n"
     ]
    }
   ],
   "source": [
    "#programme for return value\n",
    "def hello(a,b):\n",
    "    result=a+b\n",
    "    #print(result)\n",
    "    return result \n",
    "def hi():\n",
    "    result=hello(3,4)\n",
    "    print(result)\n",
    "hi()\n",
    "\n",
    "\n",
    "\n"
   ]
  },
  {
   "cell_type": "code",
   "execution_count": 79,
   "metadata": {},
   "outputs": [
    {
     "name": "stdout",
     "output_type": "stream",
     "text": [
      "the value is 3\n",
      "the value is 3\n",
      "the value is 37\n"
     ]
    }
   ],
   "source": [
    "#working with default arguments\n",
    "def hello(p,q=1):# deflut value should assign at last\n",
    "    print(\"the value is\",p+q)\n",
    "hello(2)\n",
    "hello(2)\n",
    "hello(34,3)"
   ]
  },
  {
   "cell_type": "code",
   "execution_count": 86,
   "metadata": {},
   "outputs": [
    {
     "name": "stdout",
     "output_type": "stream",
     "text": [
      "the value a is: 3\n",
      "the value a is: 3\n"
     ]
    }
   ],
   "source": [
    "#arguments passing based on keywords\n",
    "def hello(a,b):#parameters or positional parameters\n",
    "    print(\"the value a is:\",a)\n",
    "hello(3,2)\n",
    "hello(b=2,a=3)"
   ]
  },
  {
   "cell_type": "code",
   "execution_count": 7,
   "metadata": {},
   "outputs": [
    {
     "name": "stdout",
     "output_type": "stream",
     "text": [
      "<class 'int'>\n",
      "<class 'int'>\n",
      "<class 'str'>\n"
     ]
    }
   ],
   "source": [
    "#variable lenghth arguments\n",
    "def hello(*arg):#* is one or more arguments\n",
    "    for each in arg:\n",
    "        print(type(each))\n",
    "hello(3)\n",
    "hello(2,\"hello\")"
   ]
  },
  {
   "cell_type": "code",
   "execution_count": 8,
   "metadata": {},
   "outputs": [
    {
     "name": "stdout",
     "output_type": "stream",
     "text": [
      "{'a': 2, 'b': 3, 'c': 4}\n"
     ]
    }
   ],
   "source": [
    "#variable lenghth keybased arguments\n",
    "def hi(**karg):#it is going o give in dic format \n",
    "    print(karg)\n",
    "hi(a=2,b=3,c=4)#dic based arguments"
   ]
  },
  {
   "cell_type": "code",
   "execution_count": null,
   "metadata": {},
   "outputs": [],
   "source": [
    "#map() and lambda"
   ]
  },
  {
   "cell_type": "code",
   "execution_count": 7,
   "metadata": {},
   "outputs": [
    {
     "data": {
      "text/plain": [
       "5"
      ]
     },
     "execution_count": 7,
     "metadata": {},
     "output_type": "execute_result"
    }
   ],
   "source": [
    "f=lambda x,y:x+y\n",
    "f(2,3)"
   ]
  },
  {
   "cell_type": "code",
   "execution_count": 11,
   "metadata": {},
   "outputs": [
    {
     "data": {
      "text/plain": [
       "[2, 4, 7]"
      ]
     },
     "execution_count": 11,
     "metadata": {},
     "output_type": "execute_result"
    }
   ],
   "source": [
    "a=[1,2,3]\n",
    "b=[1,2,4]\n",
    "list(map(lambda x,y:x+y,a,b))"
   ]
  },
  {
   "cell_type": "code",
   "execution_count": 28,
   "metadata": {},
   "outputs": [
    {
     "data": {
      "text/plain": [
       "['hhh', 'eee', 'lll', 'lll', 'ooo']"
      ]
     },
     "execution_count": 28,
     "metadata": {},
     "output_type": "execute_result"
    }
   ],
   "source": [
    "a=\"hello\"\n",
    "def hello(a):\n",
    "    x=a*3\n",
    "    return x\n",
    "list(map(hello,a))"
   ]
  },
  {
   "cell_type": "code",
   "execution_count": 29,
   "metadata": {},
   "outputs": [
    {
     "data": {
      "text/plain": [
       "(1, 4, 9, 16)"
      ]
     },
     "execution_count": 29,
     "metadata": {},
     "output_type": "execute_result"
    }
   ],
   "source": [
    "a=(1,2,3,4)\n",
    "tuple(map(lambda x:x*x,a))"
   ]
  },
  {
   "cell_type": "code",
   "execution_count": 31,
   "metadata": {},
   "outputs": [
    {
     "data": {
      "text/plain": [
       "[2, 4, 6, 8]"
      ]
     },
     "execution_count": 31,
     "metadata": {},
     "output_type": "execute_result"
    }
   ],
   "source": [
    "#map\n",
    "a=[1,2,3,4]\n",
    "b=[1,2,3,4]\n",
    "list(map(lambda x,y:x+y,a,b))\n"
   ]
  },
  {
   "cell_type": "code",
   "execution_count": 34,
   "metadata": {},
   "outputs": [
    {
     "data": {
      "text/plain": [
       "[2]"
      ]
     },
     "execution_count": 34,
     "metadata": {},
     "output_type": "execute_result"
    }
   ],
   "source": [
    "#filter\n",
    "a=[1,2,3]\n",
    "list(filter(lambda x:x%2==0,a))\n"
   ]
  },
  {
   "cell_type": "code",
   "execution_count": 36,
   "metadata": {},
   "outputs": [
    {
     "ename": "NameError",
     "evalue": "name 'reduce' is not defined",
     "output_type": "error",
     "traceback": [
      "\u001b[1;31m---------------------------------------------------------------------------\u001b[0m",
      "\u001b[1;31mNameError\u001b[0m                                 Traceback (most recent call last)",
      "\u001b[1;32m<ipython-input-36-f5d5a6b6ba4d>\u001b[0m in \u001b[0;36m<module>\u001b[1;34m\u001b[0m\n\u001b[1;32m----> 1\u001b[1;33m \u001b[0mf\u001b[0m\u001b[1;33m=\u001b[0m\u001b[0mreduce\u001b[0m\u001b[1;33m(\u001b[0m\u001b[1;32mlambda\u001b[0m \u001b[0mx\u001b[0m\u001b[1;33m,\u001b[0m\u001b[0my\u001b[0m\u001b[1;33m:\u001b[0m\u001b[0mx\u001b[0m\u001b[1;33m+\u001b[0m\u001b[0my\u001b[0m\u001b[1;33m,\u001b[0m\u001b[1;33m[\u001b[0m\u001b[1;36m1\u001b[0m\u001b[1;33m,\u001b[0m\u001b[1;36m2\u001b[0m\u001b[1;33m,\u001b[0m\u001b[1;36m3\u001b[0m\u001b[1;33m,\u001b[0m\u001b[1;36m4\u001b[0m\u001b[1;33m]\u001b[0m\u001b[1;33m)\u001b[0m\u001b[1;33m\u001b[0m\u001b[1;33m\u001b[0m\u001b[0m\n\u001b[0m\u001b[0;32m      2\u001b[0m \u001b[0mprint\u001b[0m\u001b[1;33m(\u001b[0m\u001b[0mf\u001b[0m\u001b[1;33m)\u001b[0m\u001b[1;33m\u001b[0m\u001b[1;33m\u001b[0m\u001b[0m\n",
      "\u001b[1;31mNameError\u001b[0m: name 'reduce' is not defined"
     ]
    }
   ],
   "source": [
    "f=reduce(lambda x,y:x+y,[1,2,3,4])\n",
    "print(f)"
   ]
  },
  {
   "cell_type": "code",
   "execution_count": 38,
   "metadata": {},
   "outputs": [
    {
     "data": {
      "text/plain": [
       "[0, 1, 2, 3]"
      ]
     },
     "execution_count": 38,
     "metadata": {},
     "output_type": "execute_result"
    }
   ],
   "source": [
    "[x for x in range(4)]"
   ]
  },
  {
   "cell_type": "code",
   "execution_count": 53,
   "metadata": {},
   "outputs": [
    {
     "data": {
      "text/plain": [
       "1.2973296269992716"
      ]
     },
     "execution_count": 53,
     "metadata": {},
     "output_type": "execute_result"
    }
   ],
   "source": [
    "import timeit\n",
    "timeit.timeit(\"list(map(lambda x:x*x,[1,2,3]))\")\n",
    "timeit.timeit(\"[x*x for x in [1,2,3]]\")"
   ]
  },
  {
   "cell_type": "code",
   "execution_count": 54,
   "metadata": {},
   "outputs": [
    {
     "data": {
      "text/plain": [
       "3.533443704999627"
      ]
     },
     "execution_count": 54,
     "metadata": {},
     "output_type": "execute_result"
    }
   ],
   "source": [
    "timeit.timeit(\"list(map(lambda x:x*x,[1,2,3]))\")\n"
   ]
  },
  {
   "cell_type": "code",
   "execution_count": 59,
   "metadata": {},
   "outputs": [
    {
     "data": {
      "text/plain": [
       "[1, 3, 5, 7, 9]"
      ]
     },
     "execution_count": 59,
     "metadata": {},
     "output_type": "execute_result"
    }
   ],
   "source": [
    "[x for x in range(1,10) if x%2!=0]"
   ]
  },
  {
   "cell_type": "code",
   "execution_count": 60,
   "metadata": {},
   "outputs": [
    {
     "data": {
      "text/plain": [
       "[2, 4, 6]"
      ]
     },
     "execution_count": 60,
     "metadata": {},
     "output_type": "execute_result"
    }
   ],
   "source": [
    "[x+x for x in [1,2,3]]"
   ]
  },
  {
   "cell_type": "code",
   "execution_count": 63,
   "metadata": {},
   "outputs": [
    {
     "data": {
      "text/plain": [
       "6"
      ]
     },
     "execution_count": 63,
     "metadata": {},
     "output_type": "execute_result"
    }
   ],
   "source": [
    "max([x for x in [1,2,5,6]])"
   ]
  },
  {
   "cell_type": "code",
   "execution_count": null,
   "metadata": {},
   "outputs": [],
   "source": []
  }
 ],
 "metadata": {
  "kernelspec": {
   "display_name": "Python 3",
   "language": "python",
   "name": "python3"
  },
  "language_info": {
   "codemirror_mode": {
    "name": "ipython",
    "version": 3
   },
   "file_extension": ".py",
   "mimetype": "text/x-python",
   "name": "python",
   "nbconvert_exporter": "python",
   "pygments_lexer": "ipython3",
   "version": "3.8.2"
  }
 },
 "nbformat": 4,
 "nbformat_minor": 4
}
