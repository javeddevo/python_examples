{
 "cells": [
  {
   "cell_type": "code",
   "execution_count": 2,
   "metadata": {},
   "outputs": [
    {
     "name": "stdout",
     "output_type": "stream",
     "text": [
      "helloworld\n"
     ]
    }
   ],
   "source": [
    "def hello():\n",
    "    print(\"helloworld\")\n",
    "def hi(fun):#functions as parameter\n",
    "    fun()\n",
    "def hi(hello)"
   ]
  },
  {
   "cell_type": "code",
   "execution_count": 23,
   "metadata": {},
   "outputs": [
    {
     "name": "stdout",
     "output_type": "stream",
     "text": [
      "<function hi.<locals>.ho at 0x0539B148>\n"
     ]
    }
   ],
   "source": []
  },
  {
   "cell_type": "code",
   "execution_count": 18,
   "metadata": {},
   "outputs": [
    {
     "name": "stdout",
     "output_type": "stream",
     "text": [
      "HELLO\n"
     ]
    }
   ],
   "source": [
    "def upper(fun):\n",
    "    def inner():\n",
    "        str=fun()\n",
    "        return str.upper()\n",
    "    return inner\n",
    "@upper\n",
    "def hi():\n",
    "    return \"hello\"\n",
    "print(hi())\n",
    "\n",
    "#a=upper(hi)\n",
    "#print(a())"
   ]
  },
  {
   "cell_type": "code",
   "execution_count": 28,
   "metadata": {},
   "outputs": [
    {
     "name": "stdout",
     "output_type": "stream",
     "text": [
      "['HELLO', 'WORLD']\n"
     ]
    }
   ],
   "source": [
    "#multiple decorators\n",
    "def upper(fun):\n",
    "    def inner():\n",
    "        str=fun()\n",
    "        return str.upper()\n",
    "    return inner\n",
    "def spl(fun1):\n",
    "    def inr():\n",
    "        str=fun1()\n",
    "        return str.split()\n",
    "    return inr\n",
    "@spl\n",
    "@upper\n",
    "def exam():\n",
    "    return \"hello world\"\n",
    "print(exam())\n"
   ]
  },
  {
   "cell_type": "code",
   "execution_count": 3,
   "metadata": {},
   "outputs": [
    {
     "name": "stdout",
     "output_type": "stream",
     "text": [
      "101\n"
     ]
    }
   ],
   "source": [
    "# invoking the function\n",
    "def f1(z):\n",
    "    return z+1\n",
    "def f2(z):\n",
    "    return z-1\n",
    "def f3(z):\n",
    "    return z*z\n",
    "def f4(f,z):\n",
    "    result=f(z)\n",
    "    return result\n",
    "print(f4(f1,100))"
   ]
  },
  {
   "cell_type": "code",
   "execution_count": 7,
   "metadata": {},
   "outputs": [
    {
     "name": "stdout",
     "output_type": "stream",
     "text": [
      "hello\n"
     ]
    }
   ],
   "source": [
    "#nested function\n",
    "def hello():\n",
    "    def inner():\n",
    "        print(\"hello\")\n",
    "    return inner\n",
    "val=hello()\n",
    "val()"
   ]
  },
  {
   "cell_type": "code",
   "execution_count": 8,
   "metadata": {},
   "outputs": [
    {
     "name": "stdout",
     "output_type": "stream",
     "text": [
      "decorator is added\n",
      "hi\n"
     ]
    }
   ],
   "source": [
    "def normal(fun):\n",
    "    def inner():\n",
    "        print(\"decorator is added\")\n",
    "        fun()\n",
    "    return inner\n",
    "@normal\n",
    "def ho():\n",
    "    print(\"hi\")\n",
    "ho()"
   ]
  },
  {
   "cell_type": "code",
   "execution_count": 11,
   "metadata": {},
   "outputs": [
    {
     "name": "stdout",
     "output_type": "stream",
     "text": [
      "1\n",
      "2\n",
      "3\n"
     ]
    }
   ],
   "source": [
    "#generator\n",
    "def hello():\n",
    "    yield 1\n",
    "    yield 2\n",
    "    yield 3\n",
    "#print(next(hello()))\n",
    "for i in hello():\n",
    "    print(i)"
   ]
  },
  {
   "cell_type": "code",
   "execution_count": 15,
   "metadata": {},
   "outputs": [
    {
     "name": "stdout",
     "output_type": "stream",
     "text": [
      "1\n"
     ]
    }
   ],
   "source": [
    "def hi(arg):\n",
    "    for i in arg:\n",
    "        yield i\n",
    "item=hi([1,2,3,4])\n",
    "print(next(item))\n"
   ]
  },
  {
   "cell_type": "code",
   "execution_count": 27,
   "metadata": {},
   "outputs": [
    {
     "name": "stdout",
     "output_type": "stream",
     "text": [
      "4\n",
      "1234"
     ]
    }
   ],
   "source": [
    "n=int(input())\n",
    "for i in range(n):\n",
    "    print(i+1,end=\"\")\n"
   ]
  },
  {
   "cell_type": "code",
   "execution_count": 28,
   "metadata": {},
   "outputs": [
    {
     "name": "stdout",
     "output_type": "stream",
     "text": [
      "hello rose apple!.You have\n"
     ]
    }
   ],
   "source": [
    "def hi(a,b):\n",
    "    print(f\"hello {a}\",end=\" \")\n",
    "    print(f\"{b}!.You have\")\n",
    "a=\"rose\"\n",
    "b=\"apple\"\n",
    "hi(a,b)"
   ]
  },
  {
   "cell_type": "code",
   "execution_count": 41,
   "metadata": {},
   "outputs": [
    {
     "name": "stdout",
     "output_type": "stream",
     "text": [
      "jv\n",
      "df\n",
      "rose apple\n",
      "Hello jv df! You just delved into python\n"
     ]
    }
   ],
   "source": [
    "def print_full_name(a, b):\n",
    "    news=input()\n",
    "    hell=input()\n",
    "    print(a,b)\n",
    "    print(f\"Hello {news}\",end=\" \")\n",
    "    print(f\"{hell}! You just delved into python\")\n",
    "print_full_name(a,b)"
   ]
  },
  {
   "cell_type": "code",
   "execution_count": 42,
   "metadata": {},
   "outputs": [
    {
     "data": {
      "text/plain": [
       "2"
      ]
     },
     "execution_count": 42,
     "metadata": {},
     "output_type": "execute_result"
    }
   ],
   "source": [
    "#substring count in a string\n",
    "a=\"helloworldwor\"\n",
    "sub=\"wor\"\n",
    "count=0\n",
    "for i in range(len(a)):\n",
    "    if a[i:].startswith(sub):\n",
    "        count=count+1\n",
    "count\n",
    "    "
   ]
  },
  {
   "cell_type": "code",
   "execution_count": 45,
   "metadata": {},
   "outputs": [
    {
     "name": "stdout",
     "output_type": "stream",
     "text": [
      "ggg\n",
      "True\n"
     ]
    }
   ],
   "source": [
    "string=input()\n",
    "print(string.isalnum())\n"
   ]
  },
  {
   "cell_type": "code",
   "execution_count": 47,
   "metadata": {},
   "outputs": [
    {
     "name": "stdout",
     "output_type": "stream",
     "text": [
      "g\n",
      "g\n"
     ]
    }
   ],
   "source": [
    "for i in\"gg\":\n",
    "    print(i)"
   ]
  },
  {
   "cell_type": "code",
   "execution_count": 53,
   "metadata": {},
   "outputs": [
    {
     "name": "stdout",
     "output_type": "stream",
     "text": [
      "False\n"
     ]
    }
   ],
   "source": [
    "a,b,c=False,False,False\n",
    "print(a)"
   ]
  },
  {
   "cell_type": "code",
   "execution_count": null,
   "metadata": {},
   "outputs": [],
   "source": []
  }
 ],
 "metadata": {
  "kernelspec": {
   "display_name": "Python 3",
   "language": "python",
   "name": "python3"
  },
  "language_info": {
   "codemirror_mode": {
    "name": "ipython",
    "version": 3
   },
   "file_extension": ".py",
   "mimetype": "text/x-python",
   "name": "python",
   "nbconvert_exporter": "python",
   "pygments_lexer": "ipython3",
   "version": "3.8.2"
  }
 },
 "nbformat": 4,
 "nbformat_minor": 4
}
